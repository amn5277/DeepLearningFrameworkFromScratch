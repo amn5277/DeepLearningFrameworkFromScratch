{
 "cells": [
  {
   "cell_type": "code",
   "execution_count": 79,
   "metadata": {},
   "outputs": [
    {
     "name": "stdout",
     "output_type": "stream",
     "text": [
      "Overwriting notebook2script.py\n"
     ]
    }
   ],
   "source": [
    "%%writefile notebook2script.py\n",
    "\n",
    "import json,fire,re\n",
    "from pathlib import Path\n",
    "import io\n",
    "\n",
    "\n",
    "def isExport(cell):\n",
    "    \"Checks wheather a cell contains #export or not\"\n",
    "    if cell['cell_type']!='code':\n",
    "        return False\n",
    "    src = cell['source']\n",
    "    if len(src)==0 or len(src[0])<7:\n",
    "        return False\n",
    "    return re.match(r'^\\s*#\\s*export\\s*$',src[0],re.IGNORECASE) is not None\n",
    "\n",
    "\n",
    "def notebook2Script(fname):\n",
    "    \n",
    "    fname = Path(fname)\n",
    "    fname_out = f'{fname.stem.split(\".\")[0]}.py'\n",
    "    main_dic = json.load(open(fname,'r',encoding='utf-8'))\n",
    "    code_cells = [c for c in main_dic['cells'] if isExport(c)]\n",
    "    module = f'''# file to edit: dev_nb/{fname.name} \n",
    "'''\n",
    "    \n",
    "    for cell in code_cells:\n",
    "        module+=\"\".join(cell['source'][1:])+'\\n\\n'\n",
    "    # remove trailing spaces\n",
    "    module = re.sub(r' +$', '', module, flags=re.MULTILINE)\n",
    "    if not (fname.parent/'expoMode').exists():\n",
    "        (fname.parent/'expoMode').mkdir()\n",
    "    output_path = fname.parent/'expoMode'/fname_out\n",
    "    with io.open(output_path, \"w\", encoding=\"utf-8\") as f:\n",
    "        f.write(module[:-2])\n",
    "    print(f\"Converted {fname} to {output_path}\")\n",
    "        \n",
    "        \n",
    "if __name__=='__main__':\n",
    "    fire.Fire(notebook2Script)"
   ]
  },
  {
   "cell_type": "code",
   "execution_count": 55,
   "metadata": {},
   "outputs": [
    {
     "name": "stdout",
     "output_type": "stream",
     "text": [
      "Overwriting run.py\n"
     ]
    }
   ],
   "source": [
    "%%writefile run.py\n",
    "import nbformat,fire\n",
    "from nbconvert.preprocessors import ExecutePreprocessor\n",
    "\n",
    "def run_notebook(path):\n",
    "    \"Executes notebook `path` and shows any exceptions. Useful for testing\"\n",
    "    nb = nbformat.read(open(path), as_version=nbformat.NO_CONVERT)\n",
    "    ExecutePreprocessor(timeout=600).preprocess(nb, {})\n",
    "    print('done')\n",
    "\n",
    "if __name__ == '__main__': fire.Fire(run_notebook)\n",
    "\n"
   ]
  }
 ],
 "metadata": {
  "kernelspec": {
   "display_name": "Python 3",
   "language": "python",
   "name": "python3"
  },
  "language_info": {
   "codemirror_mode": {
    "name": "ipython",
    "version": 3
   },
   "file_extension": ".py",
   "mimetype": "text/x-python",
   "name": "python",
   "nbconvert_exporter": "python",
   "pygments_lexer": "ipython3",
   "version": "3.7.0"
  }
 },
 "nbformat": 4,
 "nbformat_minor": 2
}
